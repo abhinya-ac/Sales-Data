{
 "cells": [
  {
   "cell_type": "code",
   "execution_count": 115,
   "id": "642adf54-c7ce-4791-9d26-fe10fc80c4f2",
   "metadata": {},
   "outputs": [],
   "source": [
    "import pandas as pd\n",
    "import numpy as np"
   ]
  },
  {
   "cell_type": "code",
   "execution_count": 116,
   "id": "c0c0b256-fe00-4032-97a6-00391cc1aa75",
   "metadata": {},
   "outputs": [],
   "source": [
    "import warnings \n",
    "warnings.filterwarnings('ignore')"
   ]
  },
  {
   "cell_type": "code",
   "execution_count": 117,
   "id": "441b039d-7a95-46f9-addb-ff995734800a",
   "metadata": {},
   "outputs": [],
   "source": [
    "df = pd.read_csv(\"Sales-Export_2019-2020.csv\")"
   ]
  },
  {
   "cell_type": "code",
   "execution_count": 118,
   "id": "c179e72c-23b2-4928-85f6-7f0aa495638d",
   "metadata": {},
   "outputs": [
    {
     "data": {
      "text/html": [
       "<div>\n",
       "<style scoped>\n",
       "    .dataframe tbody tr th:only-of-type {\n",
       "        vertical-align: middle;\n",
       "    }\n",
       "\n",
       "    .dataframe tbody tr th {\n",
       "        vertical-align: top;\n",
       "    }\n",
       "\n",
       "    .dataframe thead th {\n",
       "        text-align: right;\n",
       "    }\n",
       "</style>\n",
       "<table border=\"1\" class=\"dataframe\">\n",
       "  <thead>\n",
       "    <tr style=\"text-align: right;\">\n",
       "      <th></th>\n",
       "      <th>country</th>\n",
       "      <th>order_value_EUR</th>\n",
       "      <th>cost</th>\n",
       "      <th>date</th>\n",
       "      <th>category</th>\n",
       "      <th>customer_name</th>\n",
       "      <th>sales_manager</th>\n",
       "      <th>sales_rep</th>\n",
       "      <th>device_type</th>\n",
       "      <th>order_id</th>\n",
       "    </tr>\n",
       "  </thead>\n",
       "  <tbody>\n",
       "    <tr>\n",
       "      <th>0</th>\n",
       "      <td>Sweden</td>\n",
       "      <td>17,524.02</td>\n",
       "      <td>14122.61</td>\n",
       "      <td>2/12/2020</td>\n",
       "      <td>Books</td>\n",
       "      <td>Goldner-Dibbert</td>\n",
       "      <td>Maxie Marrow</td>\n",
       "      <td>Madelon Bront</td>\n",
       "      <td>Mobile</td>\n",
       "      <td>70-0511466</td>\n",
       "    </tr>\n",
       "    <tr>\n",
       "      <th>1</th>\n",
       "      <td>Finland</td>\n",
       "      <td>116,563.40</td>\n",
       "      <td>92807.78</td>\n",
       "      <td>9/26/2019</td>\n",
       "      <td>Games</td>\n",
       "      <td>Hilll-Vandervort</td>\n",
       "      <td>Hube Corey</td>\n",
       "      <td>Wat Bowkley</td>\n",
       "      <td>Mobile</td>\n",
       "      <td>28-6585323</td>\n",
       "    </tr>\n",
       "    <tr>\n",
       "      <th>2</th>\n",
       "      <td>Portugal</td>\n",
       "      <td>296,465.56</td>\n",
       "      <td>257480.34</td>\n",
       "      <td>7/11/2019</td>\n",
       "      <td>Clothing</td>\n",
       "      <td>Larkin-Collier</td>\n",
       "      <td>Celine Tumasian</td>\n",
       "      <td>Smitty Culverhouse</td>\n",
       "      <td>PC</td>\n",
       "      <td>58-7703341</td>\n",
       "    </tr>\n",
       "    <tr>\n",
       "      <th>3</th>\n",
       "      <td>Portugal</td>\n",
       "      <td>74,532.02</td>\n",
       "      <td>59752.32</td>\n",
       "      <td>4/2/2020</td>\n",
       "      <td>Beauty</td>\n",
       "      <td>Hessel-Stiedemann</td>\n",
       "      <td>Celine Tumasian</td>\n",
       "      <td>Aurelie Wren</td>\n",
       "      <td>PC</td>\n",
       "      <td>14-6700183</td>\n",
       "    </tr>\n",
       "    <tr>\n",
       "      <th>4</th>\n",
       "      <td>Spain</td>\n",
       "      <td>178,763.42</td>\n",
       "      <td>146621.76</td>\n",
       "      <td>12/22/2019</td>\n",
       "      <td>Games</td>\n",
       "      <td>Johns and Sons</td>\n",
       "      <td>Emalia Dinse</td>\n",
       "      <td>Bertha Walbrook</td>\n",
       "      <td>Tablet</td>\n",
       "      <td>15-8765160</td>\n",
       "    </tr>\n",
       "  </tbody>\n",
       "</table>\n",
       "</div>"
      ],
      "text/plain": [
       "    country  order_value_EUR       cost         date  category  \\\n",
       "0    Sweden         17,524.02   14122.61   2/12/2020     Books   \n",
       "1   Finland        116,563.40   92807.78   9/26/2019     Games   \n",
       "2  Portugal        296,465.56  257480.34   7/11/2019  Clothing   \n",
       "3  Portugal         74,532.02   59752.32    4/2/2020    Beauty   \n",
       "4     Spain        178,763.42  146621.76  12/22/2019     Games   \n",
       "\n",
       "       customer_name    sales_manager           sales_rep device_type  \\\n",
       "0    Goldner-Dibbert     Maxie Marrow       Madelon Bront      Mobile   \n",
       "1   Hilll-Vandervort       Hube Corey         Wat Bowkley      Mobile   \n",
       "2     Larkin-Collier  Celine Tumasian  Smitty Culverhouse          PC   \n",
       "3  Hessel-Stiedemann  Celine Tumasian        Aurelie Wren          PC   \n",
       "4     Johns and Sons     Emalia Dinse     Bertha Walbrook      Tablet   \n",
       "\n",
       "     order_id  \n",
       "0  70-0511466  \n",
       "1  28-6585323  \n",
       "2  58-7703341  \n",
       "3  14-6700183  \n",
       "4  15-8765160  "
      ]
     },
     "execution_count": 118,
     "metadata": {},
     "output_type": "execute_result"
    }
   ],
   "source": [
    "df.head()"
   ]
  },
  {
   "cell_type": "code",
   "execution_count": 119,
   "id": "a931343a-bfaa-452e-8a5c-febf21217478",
   "metadata": {},
   "outputs": [
    {
     "data": {
      "text/html": [
       "<div>\n",
       "<style scoped>\n",
       "    .dataframe tbody tr th:only-of-type {\n",
       "        vertical-align: middle;\n",
       "    }\n",
       "\n",
       "    .dataframe tbody tr th {\n",
       "        vertical-align: top;\n",
       "    }\n",
       "\n",
       "    .dataframe thead th {\n",
       "        text-align: right;\n",
       "    }\n",
       "</style>\n",
       "<table border=\"1\" class=\"dataframe\">\n",
       "  <thead>\n",
       "    <tr style=\"text-align: right;\">\n",
       "      <th></th>\n",
       "      <th>country</th>\n",
       "      <th>order_value_EUR</th>\n",
       "      <th>cost</th>\n",
       "      <th>date</th>\n",
       "      <th>category</th>\n",
       "      <th>customer_name</th>\n",
       "      <th>sales_manager</th>\n",
       "      <th>sales_rep</th>\n",
       "      <th>device_type</th>\n",
       "      <th>order_id</th>\n",
       "    </tr>\n",
       "  </thead>\n",
       "  <tbody>\n",
       "    <tr>\n",
       "      <th>995</th>\n",
       "      <td>France</td>\n",
       "      <td>46,296.26</td>\n",
       "      <td>40319.41</td>\n",
       "      <td>5/15/2020</td>\n",
       "      <td>Games</td>\n",
       "      <td>Wisoky Inc</td>\n",
       "      <td>Othello Bowes</td>\n",
       "      <td>Amelina Piscopiello</td>\n",
       "      <td>Tablet</td>\n",
       "      <td>77-3489084</td>\n",
       "    </tr>\n",
       "    <tr>\n",
       "      <th>996</th>\n",
       "      <td>Belgium</td>\n",
       "      <td>118,061.05</td>\n",
       "      <td>101131.10</td>\n",
       "      <td>7/2/2020</td>\n",
       "      <td>Appliances</td>\n",
       "      <td>Johns and Sons</td>\n",
       "      <td>Lambert Norheny</td>\n",
       "      <td>Collin Mackness</td>\n",
       "      <td>Mobile</td>\n",
       "      <td>59-2117058</td>\n",
       "    </tr>\n",
       "    <tr>\n",
       "      <th>997</th>\n",
       "      <td>Finland</td>\n",
       "      <td>74,480.56</td>\n",
       "      <td>60023.88</td>\n",
       "      <td>3/6/2020</td>\n",
       "      <td>Clothing</td>\n",
       "      <td>Homenick-Marvin</td>\n",
       "      <td>Hube Corey</td>\n",
       "      <td>Wat Bowkley</td>\n",
       "      <td>PC</td>\n",
       "      <td>31-1849120</td>\n",
       "    </tr>\n",
       "    <tr>\n",
       "      <th>998</th>\n",
       "      <td>Spain</td>\n",
       "      <td>87,205.01</td>\n",
       "      <td>69171.01</td>\n",
       "      <td>6/18/2020</td>\n",
       "      <td>Games</td>\n",
       "      <td>Johns and Sons</td>\n",
       "      <td>Emalia Dinse</td>\n",
       "      <td>Manuel Goudie</td>\n",
       "      <td>Tablet</td>\n",
       "      <td>45-3085595</td>\n",
       "    </tr>\n",
       "    <tr>\n",
       "      <th>999</th>\n",
       "      <td>Portugal</td>\n",
       "      <td>107,716.72</td>\n",
       "      <td>86679.64</td>\n",
       "      <td>1/18/2020</td>\n",
       "      <td>Accessories</td>\n",
       "      <td>Jacobson, Marvin and Brown</td>\n",
       "      <td>Celine Tumasian</td>\n",
       "      <td>Brynn Dempster</td>\n",
       "      <td>Mobile</td>\n",
       "      <td>61-3294149</td>\n",
       "    </tr>\n",
       "  </tbody>\n",
       "</table>\n",
       "</div>"
      ],
      "text/plain": [
       "      country  order_value_EUR       cost        date     category  \\\n",
       "995    France         46,296.26   40319.41  5/15/2020        Games   \n",
       "996   Belgium        118,061.05  101131.10   7/2/2020   Appliances   \n",
       "997   Finland         74,480.56   60023.88   3/6/2020     Clothing   \n",
       "998     Spain         87,205.01   69171.01  6/18/2020        Games   \n",
       "999  Portugal        107,716.72   86679.64  1/18/2020  Accessories   \n",
       "\n",
       "                  customer_name    sales_manager            sales_rep  \\\n",
       "995                  Wisoky Inc    Othello Bowes  Amelina Piscopiello   \n",
       "996              Johns and Sons  Lambert Norheny      Collin Mackness   \n",
       "997             Homenick-Marvin       Hube Corey          Wat Bowkley   \n",
       "998              Johns and Sons     Emalia Dinse        Manuel Goudie   \n",
       "999  Jacobson, Marvin and Brown  Celine Tumasian       Brynn Dempster   \n",
       "\n",
       "    device_type    order_id  \n",
       "995      Tablet  77-3489084  \n",
       "996      Mobile  59-2117058  \n",
       "997          PC  31-1849120  \n",
       "998      Tablet  45-3085595  \n",
       "999      Mobile  61-3294149  "
      ]
     },
     "execution_count": 119,
     "metadata": {},
     "output_type": "execute_result"
    }
   ],
   "source": [
    "df.tail()"
   ]
  },
  {
   "cell_type": "code",
   "execution_count": 120,
   "id": "cf13a2a8-d01f-4000-b64c-1d69efec7e36",
   "metadata": {},
   "outputs": [
    {
     "name": "stdout",
     "output_type": "stream",
     "text": [
      "<class 'pandas.core.frame.DataFrame'>\n",
      "RangeIndex: 1000 entries, 0 to 999\n",
      "Data columns (total 10 columns):\n",
      " #   Column             Non-Null Count  Dtype  \n",
      "---  ------             --------------  -----  \n",
      " 0   country            1000 non-null   object \n",
      " 1    order_value_EUR   1000 non-null   object \n",
      " 2    cost              1000 non-null   float64\n",
      " 3   date               1000 non-null   object \n",
      " 4   category           1000 non-null   object \n",
      " 5   customer_name      1000 non-null   object \n",
      " 6   sales_manager      1000 non-null   object \n",
      " 7   sales_rep          1000 non-null   object \n",
      " 8   device_type        1000 non-null   object \n",
      " 9   order_id           1000 non-null   object \n",
      "dtypes: float64(1), object(9)\n",
      "memory usage: 78.3+ KB\n"
     ]
    }
   ],
   "source": [
    "df.info()"
   ]
  },
  {
   "cell_type": "code",
   "execution_count": 121,
   "id": "e63bfa5a-b880-4e14-8e5b-d7731671564b",
   "metadata": {},
   "outputs": [
    {
     "data": {
      "text/plain": [
       "(1000, 10)"
      ]
     },
     "execution_count": 121,
     "metadata": {},
     "output_type": "execute_result"
    }
   ],
   "source": [
    "df.shape"
   ]
  },
  {
   "cell_type": "code",
   "execution_count": 122,
   "id": "17dbe955-31d2-4d19-8ad7-2d0c8ad716b6",
   "metadata": {},
   "outputs": [
    {
     "data": {
      "text/plain": [
       "Index(['country', ' order_value_EUR ', ' cost ', 'date', 'category',\n",
       "       'customer_name', 'sales_manager', 'sales_rep', 'device_type',\n",
       "       'order_id'],\n",
       "      dtype='object')"
      ]
     },
     "execution_count": 122,
     "metadata": {},
     "output_type": "execute_result"
    }
   ],
   "source": [
    "df.columns"
   ]
  },
  {
   "cell_type": "markdown",
   "id": "44ba0ff0-40df-4764-bbd5-ced04d87df5a",
   "metadata": {},
   "source": [
    "## Data Cleaning"
   ]
  },
  {
   "cell_type": "code",
   "execution_count": 124,
   "id": "ae2bfebf-29cb-4052-a3bc-ac1096641460",
   "metadata": {},
   "outputs": [
    {
     "data": {
      "text/plain": [
       "country              0\n",
       " order_value_EUR     0\n",
       " cost                0\n",
       "date                 0\n",
       "category             0\n",
       "customer_name        0\n",
       "sales_manager        0\n",
       "sales_rep            0\n",
       "device_type          0\n",
       "order_id             0\n",
       "dtype: int64"
      ]
     },
     "execution_count": 124,
     "metadata": {},
     "output_type": "execute_result"
    }
   ],
   "source": [
    "df.isnull().sum()"
   ]
  },
  {
   "cell_type": "code",
   "execution_count": 125,
   "id": "1eeb7cea-0ae7-4b84-ada0-fedcbef2fef9",
   "metadata": {},
   "outputs": [
    {
     "data": {
      "text/plain": [
       "0"
      ]
     },
     "execution_count": 125,
     "metadata": {},
     "output_type": "execute_result"
    }
   ],
   "source": [
    "df.duplicated().sum()"
   ]
  },
  {
   "cell_type": "code",
   "execution_count": 126,
   "id": "a7e8b57a-fc3b-4192-8542-629003a4ba72",
   "metadata": {},
   "outputs": [],
   "source": [
    "df['country']=df['country'].str.title()\n",
    "df['custome_name']=df['customer_name'].str.title()\n",
    "df['sales_manager']=df['sales_manager'].str.title()\n",
    "df['sales_rep']=df['sales_rep'].str.title()"
   ]
  },
  {
   "cell_type": "code",
   "execution_count": 127,
   "id": "baf3cdda-20c0-4d24-be1a-421d7d6e056c",
   "metadata": {},
   "outputs": [
    {
     "data": {
      "text/plain": [
       "country               object\n",
       " order_value_EUR      object\n",
       " cost                float64\n",
       "date                  object\n",
       "category              object\n",
       "customer_name         object\n",
       "sales_manager         object\n",
       "sales_rep             object\n",
       "device_type           object\n",
       "order_id              object\n",
       "custome_name          object\n",
       "dtype: object"
      ]
     },
     "execution_count": 127,
     "metadata": {},
     "output_type": "execute_result"
    }
   ],
   "source": [
    "df.dtypes"
   ]
  },
  {
   "cell_type": "code",
   "execution_count": 128,
   "id": "7454b6cc-aefc-4c1c-9167-470d2904e11c",
   "metadata": {},
   "outputs": [],
   "source": [
    "# converting the column of date from object to datetime object\n",
    "df['date']=pd.to_datetime(df['date'])"
   ]
  },
  {
   "cell_type": "code",
   "execution_count": 129,
   "id": "4d328bbf-3f35-4a50-b9f8-b03729e47d76",
   "metadata": {},
   "outputs": [
    {
     "data": {
      "text/html": [
       "<div>\n",
       "<style scoped>\n",
       "    .dataframe tbody tr th:only-of-type {\n",
       "        vertical-align: middle;\n",
       "    }\n",
       "\n",
       "    .dataframe tbody tr th {\n",
       "        vertical-align: top;\n",
       "    }\n",
       "\n",
       "    .dataframe thead th {\n",
       "        text-align: right;\n",
       "    }\n",
       "</style>\n",
       "<table border=\"1\" class=\"dataframe\">\n",
       "  <thead>\n",
       "    <tr style=\"text-align: right;\">\n",
       "      <th></th>\n",
       "      <th>country</th>\n",
       "      <th>order_value_EUR</th>\n",
       "      <th>cost</th>\n",
       "      <th>date</th>\n",
       "      <th>category</th>\n",
       "      <th>customer_name</th>\n",
       "      <th>sales_manager</th>\n",
       "      <th>sales_rep</th>\n",
       "      <th>device_type</th>\n",
       "      <th>order_id</th>\n",
       "      <th>custome_name</th>\n",
       "    </tr>\n",
       "  </thead>\n",
       "  <tbody>\n",
       "    <tr>\n",
       "      <th>0</th>\n",
       "      <td>Sweden</td>\n",
       "      <td>17,524.02</td>\n",
       "      <td>14122.61</td>\n",
       "      <td>2020-02-12</td>\n",
       "      <td>Books</td>\n",
       "      <td>Goldner-Dibbert</td>\n",
       "      <td>Maxie Marrow</td>\n",
       "      <td>Madelon Bront</td>\n",
       "      <td>Mobile</td>\n",
       "      <td>70-0511466</td>\n",
       "      <td>Goldner-Dibbert</td>\n",
       "    </tr>\n",
       "    <tr>\n",
       "      <th>1</th>\n",
       "      <td>Finland</td>\n",
       "      <td>116,563.40</td>\n",
       "      <td>92807.78</td>\n",
       "      <td>2019-09-26</td>\n",
       "      <td>Games</td>\n",
       "      <td>Hilll-Vandervort</td>\n",
       "      <td>Hube Corey</td>\n",
       "      <td>Wat Bowkley</td>\n",
       "      <td>Mobile</td>\n",
       "      <td>28-6585323</td>\n",
       "      <td>Hilll-Vandervort</td>\n",
       "    </tr>\n",
       "    <tr>\n",
       "      <th>2</th>\n",
       "      <td>Portugal</td>\n",
       "      <td>296,465.56</td>\n",
       "      <td>257480.34</td>\n",
       "      <td>2019-07-11</td>\n",
       "      <td>Clothing</td>\n",
       "      <td>Larkin-Collier</td>\n",
       "      <td>Celine Tumasian</td>\n",
       "      <td>Smitty Culverhouse</td>\n",
       "      <td>PC</td>\n",
       "      <td>58-7703341</td>\n",
       "      <td>Larkin-Collier</td>\n",
       "    </tr>\n",
       "    <tr>\n",
       "      <th>3</th>\n",
       "      <td>Portugal</td>\n",
       "      <td>74,532.02</td>\n",
       "      <td>59752.32</td>\n",
       "      <td>2020-04-02</td>\n",
       "      <td>Beauty</td>\n",
       "      <td>Hessel-Stiedemann</td>\n",
       "      <td>Celine Tumasian</td>\n",
       "      <td>Aurelie Wren</td>\n",
       "      <td>PC</td>\n",
       "      <td>14-6700183</td>\n",
       "      <td>Hessel-Stiedemann</td>\n",
       "    </tr>\n",
       "    <tr>\n",
       "      <th>4</th>\n",
       "      <td>Spain</td>\n",
       "      <td>178,763.42</td>\n",
       "      <td>146621.76</td>\n",
       "      <td>2019-12-22</td>\n",
       "      <td>Games</td>\n",
       "      <td>Johns and Sons</td>\n",
       "      <td>Emalia Dinse</td>\n",
       "      <td>Bertha Walbrook</td>\n",
       "      <td>Tablet</td>\n",
       "      <td>15-8765160</td>\n",
       "      <td>Johns And Sons</td>\n",
       "    </tr>\n",
       "  </tbody>\n",
       "</table>\n",
       "</div>"
      ],
      "text/plain": [
       "    country  order_value_EUR       cost        date  category  \\\n",
       "0    Sweden         17,524.02   14122.61 2020-02-12     Books   \n",
       "1   Finland        116,563.40   92807.78 2019-09-26     Games   \n",
       "2  Portugal        296,465.56  257480.34 2019-07-11  Clothing   \n",
       "3  Portugal         74,532.02   59752.32 2020-04-02    Beauty   \n",
       "4     Spain        178,763.42  146621.76 2019-12-22     Games   \n",
       "\n",
       "       customer_name    sales_manager           sales_rep device_type  \\\n",
       "0    Goldner-Dibbert     Maxie Marrow       Madelon Bront      Mobile   \n",
       "1   Hilll-Vandervort       Hube Corey         Wat Bowkley      Mobile   \n",
       "2     Larkin-Collier  Celine Tumasian  Smitty Culverhouse          PC   \n",
       "3  Hessel-Stiedemann  Celine Tumasian        Aurelie Wren          PC   \n",
       "4     Johns and Sons     Emalia Dinse     Bertha Walbrook      Tablet   \n",
       "\n",
       "     order_id       custome_name  \n",
       "0  70-0511466    Goldner-Dibbert  \n",
       "1  28-6585323   Hilll-Vandervort  \n",
       "2  58-7703341     Larkin-Collier  \n",
       "3  14-6700183  Hessel-Stiedemann  \n",
       "4  15-8765160     Johns And Sons  "
      ]
     },
     "execution_count": 129,
     "metadata": {},
     "output_type": "execute_result"
    }
   ],
   "source": [
    "df.head()"
   ]
  },
  {
   "cell_type": "code",
   "execution_count": 130,
   "id": "f6f2c33b-13eb-4261-83e9-c0b5b0adda87",
   "metadata": {},
   "outputs": [],
   "source": [
    "#renaming the columns to remove the spaces \n",
    "df = df.rename(columns={' cost ': 'Cost'})\n",
    "df = df.rename(columns={' order_value_EUR ': 'order_value_EUR'})"
   ]
  },
  {
   "cell_type": "code",
   "execution_count": 131,
   "id": "8374378f-87e0-45ba-81a9-175f83b075f5",
   "metadata": {},
   "outputs": [],
   "source": [
    "df['order_value_EUR']=df['order_value_EUR'].str.replace(',', '')"
   ]
  },
  {
   "cell_type": "code",
   "execution_count": 132,
   "id": "b46f3d29-18df-4b09-b8de-aabbd2f7212f",
   "metadata": {},
   "outputs": [],
   "source": [
    "df['order_value_EUR']=pd.to_numeric(df['order_value_EUR'])"
   ]
  },
  {
   "cell_type": "code",
   "execution_count": 133,
   "id": "0d02a27e-1945-4ce0-a73a-62618f04861c",
   "metadata": {},
   "outputs": [
    {
     "data": {
      "text/plain": [
       "country                    object\n",
       "order_value_EUR           float64\n",
       "Cost                      float64\n",
       "date               datetime64[ns]\n",
       "category                   object\n",
       "customer_name              object\n",
       "sales_manager              object\n",
       "sales_rep                  object\n",
       "device_type                object\n",
       "order_id                   object\n",
       "custome_name               object\n",
       "dtype: object"
      ]
     },
     "execution_count": 133,
     "metadata": {},
     "output_type": "execute_result"
    }
   ],
   "source": [
    "df.dtypes"
   ]
  },
  {
   "cell_type": "code",
   "execution_count": null,
   "id": "e9961161-89d5-428d-b81c-b167f4c47845",
   "metadata": {},
   "outputs": [],
   "source": []
  }
 ],
 "metadata": {
  "kernelspec": {
   "display_name": "Python 3 (ipykernel)",
   "language": "python",
   "name": "python3"
  },
  "language_info": {
   "codemirror_mode": {
    "name": "ipython",
    "version": 3
   },
   "file_extension": ".py",
   "mimetype": "text/x-python",
   "name": "python",
   "nbconvert_exporter": "python",
   "pygments_lexer": "ipython3",
   "version": "3.12.4"
  }
 },
 "nbformat": 4,
 "nbformat_minor": 5
}
